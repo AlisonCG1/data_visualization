{
 "cells": [
  {
   "cell_type": "markdown",
   "id": "c7ff5e0d",
   "metadata": {},
   "source": [
    "##Practice Round. EDA with data visualization "
   ]
  },
  {
   "cell_type": "code",
   "execution_count": 1,
   "id": "3f427f76",
   "metadata": {},
   "outputs": [],
   "source": [
    "import matplotlib.pyplot as plt\n",
    "import pandas as pd\n",
    "import seaborn as sns"
   ]
  }
 ],
 "metadata": {
  "kernelspec": {
   "display_name": "Python 3 (ipykernel)",
   "language": "python",
   "name": "python3"
  },
  "language_info": {
   "codemirror_mode": {
    "name": "ipython",
    "version": 3
   },
   "file_extension": ".py",
   "mimetype": "text/x-python",
   "name": "python",
   "nbconvert_exporter": "python",
   "pygments_lexer": "ipython3",
   "version": "3.9.18"
  }
 },
 "nbformat": 4,
 "nbformat_minor": 5
}
